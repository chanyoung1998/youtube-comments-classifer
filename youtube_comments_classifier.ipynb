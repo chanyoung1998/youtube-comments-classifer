{
  "nbformat": 4,
  "nbformat_minor": 0,
  "metadata": {
    "colab": {
      "name": "youtube_comments_classifier.ipynb",
      "provenance": [],
      "mount_file_id": "1uqAfh-4fMK26ruQPdNte3cObk6WzYKyN",
      "authorship_tag": "ABX9TyPp6p885db3k9Ij8lM9iJjY",
      "include_colab_link": true
    },
    "kernelspec": {
      "name": "python3",
      "display_name": "Python 3"
    },
    "language_info": {
      "name": "python"
    }
  },
  "cells": [
    {
      "cell_type": "markdown",
      "metadata": {
        "id": "view-in-github",
        "colab_type": "text"
      },
      "source": [
        "<a href=\"https://colab.research.google.com/github/chanyoung1998/youtube-comments-classifier/blob/main/youtube_comments_classifier.ipynb\" target=\"_parent\"><img src=\"https://colab.research.google.com/assets/colab-badge.svg\" alt=\"Open In Colab\"/></a>"
      ]
    },
    {
      "cell_type": "code",
      "metadata": {
        "id": "MP5TWZ6Fr647"
      },
      "source": [
        "import pickle\n",
        "import csv\n",
        "import os\n",
        "\n",
        "import google.oauth2.credentials\n",
        "\n",
        "from googleapiclient.discovery import build\n",
        "from googleapiclient.errors import HttpError\n",
        "from google_auth_oauthlib.flow import InstalledAppFlow\n",
        "from google.auth.transport.requests import Request"
      ],
      "execution_count": null,
      "outputs": []
    },
    {
      "cell_type": "code",
      "metadata": {
        "id": "eTauSjbpsbEM"
      },
      "source": [
        "CLIENT_SECRETS_FILE = \"./client_secret.json\"\n",
        "SCOPES = ['https://www.googleapis.com/auth/youtube.force-ssl']\n",
        "API_SERVICE_NAME = 'youtube'\n",
        "API_VERSION = 'v3'"
      ],
      "execution_count": null,
      "outputs": []
    },
    {
      "cell_type": "code",
      "metadata": {
        "id": "Gp8cC6XNst7E"
      },
      "source": [
        "def get_authenticated_service():\n",
        "    credentials = None\n",
        "    if os.path.exists('token.pickle'):\n",
        "        with open('token.pickle', 'rb') as token:\n",
        "            credentials = pickle.load(token)\n",
        "    #  Check if the credentials are invalid or do not exist\n",
        "    if not credentials or not credentials.valid:\n",
        "        # Check if the credentials have expired\n",
        "        if credentials and credentials.expired and credentials.refresh_token:\n",
        "            credentials.refresh(Request())\n",
        "        else:\n",
        "            flow = InstalledAppFlow.from_client_secrets_file(\n",
        "                CLIENT_SECRETS_FILE, SCOPES)\n",
        "            credentials = flow.run_console()\n",
        "\n",
        "        # Save the credentials for the next run\n",
        "        with open('token.pickle', 'wb') as token:\n",
        "            pickle.dump(credentials, token)\n",
        "\n",
        "    return build(API_SERVICE_NAME, API_VERSION, credentials = credentials)"
      ],
      "execution_count": null,
      "outputs": []
    },
    {
      "cell_type": "code",
      "metadata": {
        "id": "xwRQztUNtibX"
      },
      "source": [
        "def get_video_comments(service, **kwargs):\n",
        "    comments = []\n",
        "    results = service.commentThreads().list(**kwargs).execute()\n",
        "\n",
        "    while results:\n",
        "        for item in results['items']:\n",
        "            comment = item['snippet']['topLevelComment']['snippet']['textDisplay']\n",
        "            comment2 = item['snippet']['topLevelComment']['snippet']['publishedAt']\n",
        "            comment3 = item['snippet']['topLevelComment']['snippet']['authorDisplayName']\n",
        "            print(comment)\n",
        "            print(comment2)\n",
        "            print(comment3)\n",
        "            print('==============================')\n",
        "            comments.append({'댓글 내용':comment,'댓글 시간':comment2,'작성자':comment3})\n",
        "\n",
        "        # Check if another page exists\n",
        "        if 'nextPageToken' in results:\n",
        "            kwargs['pageToken'] = results['nextPageToken']\n",
        "            results = service.commentThreads().list(**kwargs).execute()\n",
        "        else:\n",
        "            break\n",
        "\n",
        "    return comments"
      ],
      "execution_count": null,
      "outputs": []
    },
    {
      "cell_type": "code",
      "metadata": {
        "colab": {
          "base_uri": "https://localhost:8080/"
        },
        "id": "3C7juEV4uHkU",
        "outputId": "9194c7e2-cb75-41bf-84a8-1fd0bfd59e20"
      },
      "source": [
        "if __name__ == '__main__':\n",
        "    # When running locally, disable OAuthlib's HTTPs verification. When\n",
        "    # running in production *do not* leave this option enabled.\n",
        "    os.environ['OAUTHLIB_INSECURE_TRANSPORT'] = '1'\n",
        "    service = get_authenticated_service()\n",
        "    video_id = input('Enter a video_id: ')\n",
        "    comments = get_video_comments(service, part='snippet', videoId=video_id, textFormat='plainText')"
      ],
      "execution_count": null,
      "outputs": [
        {
          "output_type": "stream",
          "text": [
            "Enter a video_id: LdoJAC26MIc\n",
            "감사합니다 강의 시원시원해요! ^^\n",
            "2021-05-08T09:12:41Z\n",
            "박소영\n",
            "==============================\n",
            "진짜 꼭  대성하십시오... 지금도 대성하고 계시겠지만, 더더요 꼭이요..  감사합니다 동빈선생님\n",
            "2021-05-07T14:26:01Z\n",
            "Dami\n",
            "==============================\n",
            "동빈나에 있는 유튜브만 다 봐도 고수되겠네 없는게 없어\n",
            "2021-03-09T20:51:16Z\n",
            "Listen Hey\n",
            "==============================\n",
            "혹시 이분이 사용하시는게 아나콘다인가요ㅕ?\n",
            "2021-03-09T06:15:50Z\n",
            "조민석\n",
            "==============================\n",
            "강의 잘 봤습니다! 혹시 강의 내용을 제 블로그에 포스팅해도 될까요?\n",
            "2021-03-03T00:36:31Z\n",
            "블루홍차\n",
            "==============================\n",
            "11:46\n",
            "2021-02-06T15:21:09Z\n",
            "eon_ choi\n",
            "==============================\n",
            "A = np.array([[1,2],[3,4],[5,6]])\n",
            "B = np.array([7,8])\n",
            "\n",
            "print(np.dot(A,B))\n",
            "\n",
            "\n",
            "\n",
            "이게 A는  3x2 행렬이고 B는  2x1 행렬이라서 곱하기가 된다는건데 ..\n",
            "\n",
            "\n",
            " ... 그럼 가운데 2랑 1이니까 안맞아서 곱셈이 안되는거 아닌가요 ?\n",
            "\n",
            "\n",
            "print찍어봐도 [7,8] 이렇게 나오는데 말이죠\n",
            "\n",
            "설명부탁드립니다!\n",
            "2021-02-01T15:59:41Z\n",
            "최문원\n",
            "==============================\n",
            "감사합니다\n",
            "2020-11-23T17:58:16Z\n",
            "Luriic _\n",
            "==============================\n",
            "감사합니다!!!\n",
            "2020-11-19T16:28:19Z\n",
            "ys k\n",
            "==============================\n",
            "목소리도 아나운서 같고 설명도 차분하게 잘 해주셔서 정말 감사합니다~\n",
            "구독하고 갑니다~\n",
            "2020-11-10T09:01:43Z\n",
            "배수선\n",
            "==============================\n",
            "감사합니다!\n",
            "2020-09-18T18:30:30Z\n",
            "Dongchan Kim\n",
            "==============================\n",
            "제가 초보라서 그런데 혹시 배열 초기화를 하는 이유를 알 수 있을까요?\n",
            "2020-08-23T04:32:21Z\n",
            "CD Seo\n",
            "==============================\n",
            "진짜 인생에 도움 많이 받아요 감사합니다!\n",
            "2020-07-11T18:33:47Z\n",
            "공대공대해\n",
            "==============================\n",
            "강의 목소리에서 이선균이 가끔씩 들리네요..ㅋㅋ\n",
            "2020-06-23T02:05:51Z\n",
            "winters lee\n",
            "==============================\n",
            "정말 감사합니다\n",
            "2020-05-12T11:55:50Z\n",
            "DDUSHIDDUSSHI Rach\n",
            "==============================\n",
            "vector, axis, tensor 개념 알려주셨네요. 감사합니다\n",
            "2020-04-19T07:14:49Z\n",
            "tspark1071\n",
            "==============================\n",
            "Pycharm에 한국어 있어요?\n",
            "2020-04-07T05:55:22Z\n",
            "Jullien\n",
            "==============================\n",
            "ㄳㄳ\n",
            "2020-04-03T02:10:12Z\n",
            "kkebi\n",
            "==============================\n",
            "강의 내용이 너무 좋은데 전달도 좋으세요. 게다가 꼼꼼한 자료 공유 까지... 무료로 보는게 죄송할 정도네요 ㅠㅠ 고맙습니다. 비전공자로서 데이터 분석가의 꿈을 꾸고 있는데 큰 도움이 됩니다. 감사합니다!!!\n",
            "2020-03-09T17:13:03Z\n",
            "ignorance beyond\n",
            "==============================\n",
            "respect....  강의 잘듣고 있습니다!\n",
            "2020-02-12T02:55:26Z\n",
            "MS J\n",
            "==============================\n",
            "2:12 엑시스 0 엑시스 1 엑시스 2 아닌가욤\n",
            "엑시스 0 엑시스1 엑시스2 라고 하셔서\n",
            "2020-01-13T12:05:51Z\n",
            "백지\n",
            "==============================\n",
            "정말감사합니다. 제대로 배울곳이 없었는데 큰도움이 됩니다!\n",
            "2019-11-28T04:07:22Z\n",
            "오승헌\n",
            "==============================\n",
            "다음 강의는 언제나오나요?ㅠㅠ\n",
            "2019-08-14T23:49:06Z\n",
            "임동주\n",
            "==============================\n",
            "감사합니다!!\n",
            "2019-08-10T08:55:51Z\n",
            "지명관\n",
            "==============================\n",
            "파이참에서와 코랩에서의 array.dtype 값인 int32 int64 로 영상에는 다르게 나오는데 왜 그런가요??\n",
            "2019-06-28T10:33:45Z\n",
            "ᄋᄋ\n",
            "==============================\n",
            "안녕하세요\n",
            "2019-06-28T10:01:34Z\n",
            "软件\n",
            "==============================\n"
          ],
          "name": "stdout"
        }
      ]
    },
    {
      "cell_type": "code",
      "metadata": {
        "id": "-YdQkMTBaTE8"
      },
      "source": [
        "import pandas as pd\n",
        "\n",
        "empty_frame = pd.DataFrame(columns = ['댓글 내용','댓글 시간','작성자'])\n",
        "empty_frame.to_csv('./comments.csv')\n"
      ],
      "execution_count": null,
      "outputs": []
    },
    {
      "cell_type": "code",
      "metadata": {
        "id": "tpnrDntXcQo9"
      },
      "source": [
        "for comment in comments:\n",
        "  #print(comment)\n",
        "  data = {'댓글 내용':[comment['댓글 내용']],'댓글 시간':[comment['댓글 시간']],'작성자':[comment['작성자']]}\n",
        "  result = pd.DataFrame(data)\n",
        "  result.to_csv('comments.csv',mode='a',header=False)"
      ],
      "execution_count": null,
      "outputs": []
    },
    {
      "cell_type": "code",
      "metadata": {
        "id": "lwbsxk2scn0h"
      },
      "source": [
        ""
      ],
      "execution_count": null,
      "outputs": []
    }
  ]
}